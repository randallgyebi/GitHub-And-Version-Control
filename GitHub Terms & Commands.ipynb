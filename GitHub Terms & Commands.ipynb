{
 "cells": [
  {
   "cell_type": "markdown",
   "metadata": {},
   "source": [
    "# GitHub Terms & Commands\n",
    "## Command Line (Git Bash)\n",
    "### Commands\n",
    "help - prints commands and options available\n",
    "clear - clear command line\n",
    "cd - change directory\n",
    "pwd - print working directory\n",
    "ls - list directory\n",
    "ls -all - data and metadata abbout the files in the directory \n",
    "explorer . - To open window explorer \n",
    "\n",
    "\n",
    "NB - *drag & drop files into the terminal to get the file location\n",
    "\n",
    "### git. Commands\n",
    "git clone *link*.git\n",
    "\n",
    "git init *link*.git \n",
    "\n",
    "git commit \n",
    "      -a --> all\n",
    "      -m --> message, \"must be in quotes\" \n",
    "      \n",
    "git config\n",
    "\n",
    "git config --list\n",
    "\n",
    "git config --global\n",
    "\n",
    "git log -(#oflogs) eg -2"
   ]
  },
  {
   "cell_type": "code",
   "execution_count": null,
   "metadata": {},
   "outputs": [],
   "source": []
  }
 ],
 "metadata": {
  "kernelspec": {
   "display_name": "Python 3",
   "language": "python",
   "name": "python3"
  },
  "language_info": {
   "codemirror_mode": {
    "name": "ipython",
    "version": 3
   },
   "file_extension": ".py",
   "mimetype": "text/x-python",
   "name": "python",
   "nbconvert_exporter": "python",
   "pygments_lexer": "ipython3",
   "version": "3.7.0"
  }
 },
 "nbformat": 4,
 "nbformat_minor": 2
}
